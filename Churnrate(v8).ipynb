{
  "nbformat": 4,
  "nbformat_minor": 0,
  "metadata": {
    "accelerator": "GPU",
    "colab": {
      "name": "Churnrate(v8).ipynb",
      "provenance": [],
      "collapsed_sections": [],
      "include_colab_link": true
    },
    "kernelspec": {
      "display_name": "Python 3",
      "language": "python",
      "name": "python3"
    },
    "language_info": {
      "codemirror_mode": {
        "name": "ipython",
        "version": 3
      },
      "file_extension": ".py",
      "mimetype": "text/x-python",
      "name": "python",
      "nbconvert_exporter": "python",
      "pygments_lexer": "ipython3",
      "version": "3.6.5"
    }
  },
  "cells": [
    {
      "cell_type": "markdown",
      "metadata": {
        "id": "view-in-github",
        "colab_type": "text"
      },
      "source": [
        "<a href=\"https://colab.research.google.com/github/pammehta2017/The_R_Programming_Environment/blob/master/Churnrate(v8).ipynb\" target=\"_parent\"><img src=\"https://colab.research.google.com/assets/colab-badge.svg\" alt=\"Open In Colab\"/></a>"
      ]
    },
    {
      "cell_type": "code",
      "metadata": {
        "id": "LP1iYBYnEreu"
      },
      "source": [
        "import pandas as pd\n",
        "import numpy as np\n",
        "import warnings\n",
        "warnings.filterwarnings('ignore')\n",
        "import seaborn as sns\n",
        "from matplotlib.pyplot import figure\n",
        "import matplotlib.pyplot as plt"
      ],
      "execution_count": 1,
      "outputs": []
    },
    {
      "cell_type": "code",
      "metadata": {
        "colab": {
          "base_uri": "https://localhost:8080/",
          "height": 35
        },
        "id": "XMhkmC4-jli1",
        "outputId": "7aca710c-c6f4-4131-b6d8-868aa48d4799"
      },
      "source": [
        "pwd"
      ],
      "execution_count": 2,
      "outputs": [
        {
          "output_type": "execute_result",
          "data": {
            "application/vnd.google.colaboratory.intrinsic+json": {
              "type": "string"
            },
            "text/plain": [
              "'/content'"
            ]
          },
          "metadata": {
            "tags": []
          },
          "execution_count": 2
        }
      ]
    },
    {
      "cell_type": "code",
      "metadata": {
        "id": "lf_KgkM2jli2"
      },
      "source": [
        "df = pd.read_csv('Hiring_Challenge.csv', na_values='?')"
      ],
      "execution_count": 3,
      "outputs": []
    },
    {
      "cell_type": "code",
      "metadata": {
        "colab": {
          "base_uri": "https://localhost:8080/"
        },
        "id": "MZCGkxvdHey-",
        "outputId": "dc831d70-e302-47f1-e58f-9301ab3d07bf"
      },
      "source": [
        "#check the head of the data\n",
        "print(df.head(10))"
      ],
      "execution_count": 4,
      "outputs": [
        {
          "output_type": "stream",
          "text": [
            "  C1     C2      C3 C4 C5  C6 C7  ...  C10 C11 C12  C13    C14    C15  Hired\n",
            "0  b  30.83   0.000  u  g   w  v  ...    t   1   f    g  202.0      0      1\n",
            "1  a  58.67   4.460  u  g   q  h  ...    t   6   f    g   43.0    560      1\n",
            "2  a  24.50   0.500  u  g   q  h  ...    f   0   f    g  280.0    824      1\n",
            "3  b  27.83   1.540  u  g   w  v  ...    t   5   t    g  100.0      3      1\n",
            "4  b  20.17   5.625  u  g   w  v  ...    f   0   f    s  120.0      0      1\n",
            "5  b  32.08   4.000  u  g   m  v  ...    f   0   t    g  360.0      0      1\n",
            "6  b  33.17   1.040  u  g   r  h  ...    f   0   t    g  164.0  31285      1\n",
            "7  a  22.92  11.585  u  g  cc  v  ...    f   0   f    g   80.0   1349      1\n",
            "8  b  54.42   0.500  y  p   k  h  ...    f   0   f    g  180.0    314      1\n",
            "9  b  42.50   4.915  y  p   w  v  ...    f   0   t    g   52.0   1442      1\n",
            "\n",
            "[10 rows x 16 columns]\n"
          ],
          "name": "stdout"
        }
      ]
    },
    {
      "cell_type": "code",
      "metadata": {
        "colab": {
          "base_uri": "https://localhost:8080/",
          "height": 299
        },
        "id": "U818k9Yqjli3",
        "outputId": "f7531a0f-db2a-4b5f-eb37-036ef27e83ed"
      },
      "source": [
        "df.Hired.value_counts()\n",
        "sns.countplot(x=\"Hired\", data=df, palette=\"bwr\")"
      ],
      "execution_count": 5,
      "outputs": [
        {
          "output_type": "execute_result",
          "data": {
            "text/plain": [
              "<matplotlib.axes._subplots.AxesSubplot at 0x7fc1e4371908>"
            ]
          },
          "metadata": {
            "tags": []
          },
          "execution_count": 5
        },
        {
          "output_type": "display_data",
          "data": {
            "image/png": "[encoded data removed]",
            "text/plain": [
              "<Figure size 432x288 with 1 Axes>"
            ]
          },
          "metadata": {
            "tags": [],
            "needs_background": "light"
          }
        }
      ]
    },
    {
      "cell_type": "code",
      "metadata": {
        "colab": {
          "base_uri": "https://localhost:8080/"
        },
        "id": "6KS9Vhzkjli3",
        "outputId": "a4f577a0-1445-4979-abdc-116308d7fefd"
      },
      "source": [
        "NotHired = len(df[df.Hired == 0])\n",
        "Hired = len(df[df.Hired == 1])\n",
        "print(\"Percentage of Empoyees not Hired: {:.2f}%\".format((NotHired / (len(df.Hired))*100)))\n",
        "print(\"Percentage of Empoyees Hired: {:.2f}%\".format((Hired / (len(df.Hired))*100)))"
      ],
      "execution_count": 6,
      "outputs": [
        {
          "output_type": "stream",
          "text": [
            "Percentage of Empoyees not Hired: 55.51%\n",
            "Percentage of Empoyees Hired: 44.49%\n"
          ],
          "name": "stdout"
        }
      ]
    },
    {
      "cell_type": "code",
      "metadata": {
        "colab": {
          "base_uri": "https://localhost:8080/"
        },
        "id": "kaQjtimUjli3",
        "outputId": "4c69ce2d-6c1c-4101-c935-d2871d0f04a8"
      },
      "source": [
        "# summarize the number of rows with missing values for each column\n",
        "for i in range(df.shape[1]):\n",
        "# count number of rows with missing values\n",
        "    n_miss = df.iloc[:,i].isnull().sum()\n",
        "    perc = n_miss / df.shape[0] * 100\n",
        "    print('> %d, Missing: %d (%.1f%%)' % (i, n_miss, perc))"
      ],
      "execution_count": 7,
      "outputs": [
        {
          "output_type": "stream",
          "text": [
            "> 0, Missing: 12 (1.7%)\n",
            "> 1, Missing: 12 (1.7%)\n",
            "> 2, Missing: 0 (0.0%)\n",
            "> 3, Missing: 6 (0.9%)\n",
            "> 4, Missing: 6 (0.9%)\n",
            "> 5, Missing: 9 (1.3%)\n",
            "> 6, Missing: 9 (1.3%)\n",
            "> 7, Missing: 0 (0.0%)\n",
            "> 8, Missing: 0 (0.0%)\n",
            "> 9, Missing: 0 (0.0%)\n",
            "> 10, Missing: 0 (0.0%)\n",
            "> 11, Missing: 0 (0.0%)\n",
            "> 12, Missing: 0 (0.0%)\n",
            "> 13, Missing: 13 (1.9%)\n",
            "> 14, Missing: 0 (0.0%)\n",
            "> 15, Missing: 0 (0.0%)\n"
          ],
          "name": "stdout"
        }
      ]
    },
    {
      "cell_type": "code",
      "metadata": {
        "colab": {
          "base_uri": "https://localhost:8080/"
        },
        "id": "T_f0x3HoHojo",
        "outputId": "e5de25c9-db67-44cc-8e5b-29dd5ba16ec3"
      },
      "source": [
        "df.columns"
      ],
      "execution_count": 8,
      "outputs": [
        {
          "output_type": "execute_result",
          "data": {
            "text/plain": [
              "Index(['C1', 'C2', 'C3', 'C4', 'C5', 'C6', 'C7', 'C8', 'C9', 'C10', 'C11',\n",
              "       'C12', 'C13', 'C14', 'C15', 'Hired'],\n",
              "      dtype='object')"
            ]
          },
          "metadata": {
            "tags": []
          },
          "execution_count": 8
        }
      ]
    },
    {
      "cell_type": "code",
      "metadata": {
        "colab": {
          "base_uri": "https://localhost:8080/"
        },
        "id": "uKk_50qVjli4",
        "outputId": "618ecd02-ad7b-4056-fccf-0bc3f23b8763"
      },
      "source": [
        "## Splitting the dataset into categorical and Numerical based on the columns\n",
        "num = [col for col in df.columns if df[col].dtypes != 'O']\n",
        "cat = [col for col in df.columns if df[col].dtypes == 'O']\n",
        "print(num)\n",
        "print(cat)"
      ],
      "execution_count": 9,
      "outputs": [
        {
          "output_type": "stream",
          "text": [
            "['C2', 'C3', 'C8', 'C11', 'C14', 'C15', 'Hired']\n",
            "['C1', 'C4', 'C5', 'C6', 'C7', 'C9', 'C10', 'C12', 'C13']\n"
          ],
          "name": "stdout"
        }
      ]
    },
    {
      "cell_type": "code",
      "metadata": {
        "colab": {
          "base_uri": "https://localhost:8080/"
        },
        "id": "2LzuclNJjli4",
        "outputId": "12db792f-3846-4a9a-9b79-f3bfaf0abc25"
      },
      "source": [
        "#1 Number of categories in missing value columns\n",
        "print(\"Number of Categories in: \")\n",
        "for ColName in df[cat]:\n",
        "    print(\"{} = {}\".format(ColName,len(df[ColName].unique())))\n",
        "    \n",
        "##2 Function to replace NAN values with mode value\n",
        "def impute_nan_most_frequent_category(df,ColName):\n",
        "    print(df)\n",
        "    # .mode()[0] - gives first category name\n",
        "    most_frequent_category = df[ColName].mode()[0]\n",
        "    print(most_frequent_category)\n",
        "   # replace nan values with most occured category\n",
        "    df[ColName].fillna(most_frequent_category,inplace=True)\n",
        "    return df\n",
        "\n",
        "#3 Call function to impute most occured category\n",
        "for Columns in cat:\n",
        "    impute_nan_most_frequent_category(df,ColName = Columns)\n",
        "    \n",
        "# Checking the output for categorical data\n",
        "df[cat].isna().sum()"
      ],
      "execution_count": 10,
      "outputs": [
        {
          "output_type": "stream",
          "text": [
            "Number of Categories in: \n",
            "C1 = 3\n",
            "C4 = 4\n",
            "C5 = 4\n",
            "C6 = 15\n",
            "C7 = 10\n",
            "C9 = 2\n",
            "C10 = 2\n",
            "C12 = 2\n",
            "C13 = 3\n",
            "    C1     C2      C3 C4 C5  C6  C7  ...  C10 C11 C12  C13    C14  C15  Hired\n",
            "0    b  30.83   0.000  u  g   w   v  ...    t   1   f    g  202.0    0      1\n",
            "1    a  58.67   4.460  u  g   q   h  ...    t   6   f    g   43.0  560      1\n",
            "2    a  24.50   0.500  u  g   q   h  ...    f   0   f    g  280.0  824      1\n",
            "3    b  27.83   1.540  u  g   w   v  ...    t   5   t    g  100.0    3      1\n",
            "4    b  20.17   5.625  u  g   w   v  ...    f   0   f    s  120.0    0      1\n",
            "..  ..    ...     ... .. ..  ..  ..  ...  ...  ..  ..  ...    ...  ...    ...\n",
            "685  b  21.08  10.085  y  p   e   h  ...    f   0   f    g  260.0    0      0\n",
            "686  a  22.67   0.750  u  g   c   v  ...    t   2   t    g  200.0  394      0\n",
            "687  a  25.25  13.500  y  p  ff  ff  ...    t   1   t    g  200.0    1      0\n",
            "688  b  17.92   0.205  u  g  aa   v  ...    f   0   f    g  280.0  750      0\n",
            "689  b  35.00   3.375  u  g   c   h  ...    f   0   t    g    0.0    0      0\n",
            "\n",
            "[690 rows x 16 columns]\n",
            "b\n",
            "    C1     C2      C3 C4 C5  C6  C7  ...  C10 C11 C12  C13    C14  C15  Hired\n",
            "0    b  30.83   0.000  u  g   w   v  ...    t   1   f    g  202.0    0      1\n",
            "1    a  58.67   4.460  u  g   q   h  ...    t   6   f    g   43.0  560      1\n",
            "2    a  24.50   0.500  u  g   q   h  ...    f   0   f    g  280.0  824      1\n",
            "3    b  27.83   1.540  u  g   w   v  ...    t   5   t    g  100.0    3      1\n",
            "4    b  20.17   5.625  u  g   w   v  ...    f   0   f    s  120.0    0      1\n",
            "..  ..    ...     ... .. ..  ..  ..  ...  ...  ..  ..  ...    ...  ...    ...\n",
            "685  b  21.08  10.085  y  p   e   h  ...    f   0   f    g  260.0    0      0\n",
            "686  a  22.67   0.750  u  g   c   v  ...    t   2   t    g  200.0  394      0\n",
            "687  a  25.25  13.500  y  p  ff  ff  ...    t   1   t    g  200.0    1      0\n",
            "688  b  17.92   0.205  u  g  aa   v  ...    f   0   f    g  280.0  750      0\n",
            "689  b  35.00   3.375  u  g   c   h  ...    f   0   t    g    0.0    0      0\n",
            "\n",
            "[690 rows x 16 columns]\n",
            "u\n",
            "    C1     C2      C3 C4 C5  C6  C7  ...  C10 C11 C12  C13    C14  C15  Hired\n",
            "0    b  30.83   0.000  u  g   w   v  ...    t   1   f    g  202.0    0      1\n",
            "1    a  58.67   4.460  u  g   q   h  ...    t   6   f    g   43.0  560      1\n",
            "2    a  24.50   0.500  u  g   q   h  ...    f   0   f    g  280.0  824      1\n",
            "3    b  27.83   1.540  u  g   w   v  ...    t   5   t    g  100.0    3      1\n",
            "4    b  20.17   5.625  u  g   w   v  ...    f   0   f    s  120.0    0      1\n",
            "..  ..    ...     ... .. ..  ..  ..  ...  ...  ..  ..  ...    ...  ...    ...\n",
            "685  b  21.08  10.085  y  p   e   h  ...    f   0   f    g  260.0    0      0\n",
            "686  a  22.67   0.750  u  g   c   v  ...    t   2   t    g  200.0  394      0\n",
            "687  a  25.25  13.500  y  p  ff  ff  ...    t   1   t    g  200.0    1      0\n",
            "688  b  17.92   0.205  u  g  aa   v  ...    f   0   f    g  280.0  750      0\n",
            "689  b  35.00   3.375  u  g   c   h  ...    f   0   t    g    0.0    0      0\n",
            "\n",
            "[690 rows x 16 columns]\n",
            "g\n",
            "    C1     C2      C3 C4 C5  C6  C7  ...  C10 C11 C12  C13    C14  C15  Hired\n",
            "0    b  30.83   0.000  u  g   w   v  ...    t   1   f    g  202.0    0      1\n",
            "1    a  58.67   4.460  u  g   q   h  ...    t   6   f    g   43.0  560      1\n",
            "2    a  24.50   0.500  u  g   q   h  ...    f   0   f    g  280.0  824      1\n",
            "3    b  27.83   1.540  u  g   w   v  ...    t   5   t    g  100.0    3      1\n",
            "4    b  20.17   5.625  u  g   w   v  ...    f   0   f    s  120.0    0      1\n",
            "..  ..    ...     ... .. ..  ..  ..  ...  ...  ..  ..  ...    ...  ...    ...\n",
            "685  b  21.08  10.085  y  p   e   h  ...    f   0   f    g  260.0    0      0\n",
            "686  a  22.67   0.750  u  g   c   v  ...    t   2   t    g  200.0  394      0\n",
            "687  a  25.25  13.500  y  p  ff  ff  ...    t   1   t    g  200.0    1      0\n",
            "688  b  17.92   0.205  u  g  aa   v  ...    f   0   f    g  280.0  750      0\n",
            "689  b  35.00   3.375  u  g   c   h  ...    f   0   t    g    0.0    0      0\n",
            "\n",
            "[690 rows x 16 columns]\n",
            "c\n",
            "    C1     C2      C3 C4 C5  C6  C7  ...  C10 C11 C12  C13    C14  C15  Hired\n",
            "0    b  30.83   0.000  u  g   w   v  ...    t   1   f    g  202.0    0      1\n",
            "1    a  58.67   4.460  u  g   q   h  ...    t   6   f    g   43.0  560      1\n",
            "2    a  24.50   0.500  u  g   q   h  ...    f   0   f    g  280.0  824      1\n",
            "3    b  27.83   1.540  u  g   w   v  ...    t   5   t    g  100.0    3      1\n",
            "4    b  20.17   5.625  u  g   w   v  ...    f   0   f    s  120.0    0      1\n",
            "..  ..    ...     ... .. ..  ..  ..  ...  ...  ..  ..  ...    ...  ...    ...\n",
            "685  b  21.08  10.085  y  p   e   h  ...    f   0   f    g  260.0    0      0\n",
            "686  a  22.67   0.750  u  g   c   v  ...    t   2   t    g  200.0  394      0\n",
            "687  a  25.25  13.500  y  p  ff  ff  ...    t   1   t    g  200.0    1      0\n",
            "688  b  17.92   0.205  u  g  aa   v  ...    f   0   f    g  280.0  750      0\n",
            "689  b  35.00   3.375  u  g   c   h  ...    f   0   t    g    0.0    0      0\n",
            "\n",
            "[690 rows x 16 columns]\n",
            "v\n",
            "    C1     C2      C3 C4 C5  C6  C7  ...  C10 C11 C12  C13    C14  C15  Hired\n",
            "0    b  30.83   0.000  u  g   w   v  ...    t   1   f    g  202.0    0      1\n",
            "1    a  58.67   4.460  u  g   q   h  ...    t   6   f    g   43.0  560      1\n",
            "2    a  24.50   0.500  u  g   q   h  ...    f   0   f    g  280.0  824      1\n",
            "3    b  27.83   1.540  u  g   w   v  ...    t   5   t    g  100.0    3      1\n",
            "4    b  20.17   5.625  u  g   w   v  ...    f   0   f    s  120.0    0      1\n",
            "..  ..    ...     ... .. ..  ..  ..  ...  ...  ..  ..  ...    ...  ...    ...\n",
            "685  b  21.08  10.085  y  p   e   h  ...    f   0   f    g  260.0    0      0\n",
            "686  a  22.67   0.750  u  g   c   v  ...    t   2   t    g  200.0  394      0\n",
            "687  a  25.25  13.500  y  p  ff  ff  ...    t   1   t    g  200.0    1      0\n",
            "688  b  17.92   0.205  u  g  aa   v  ...    f   0   f    g  280.0  750      0\n",
            "689  b  35.00   3.375  u  g   c   h  ...    f   0   t    g    0.0    0      0\n",
            "\n",
            "[690 rows x 16 columns]\n",
            "t\n",
            "    C1     C2      C3 C4 C5  C6  C7  ...  C10 C11 C12  C13    C14  C15  Hired\n",
            "0    b  30.83   0.000  u  g   w   v  ...    t   1   f    g  202.0    0      1\n",
            "1    a  58.67   4.460  u  g   q   h  ...    t   6   f    g   43.0  560      1\n",
            "2    a  24.50   0.500  u  g   q   h  ...    f   0   f    g  280.0  824      1\n",
            "3    b  27.83   1.540  u  g   w   v  ...    t   5   t    g  100.0    3      1\n",
            "4    b  20.17   5.625  u  g   w   v  ...    f   0   f    s  120.0    0      1\n",
            "..  ..    ...     ... .. ..  ..  ..  ...  ...  ..  ..  ...    ...  ...    ...\n",
            "685  b  21.08  10.085  y  p   e   h  ...    f   0   f    g  260.0    0      0\n",
            "686  a  22.67   0.750  u  g   c   v  ...    t   2   t    g  200.0  394      0\n",
            "687  a  25.25  13.500  y  p  ff  ff  ...    t   1   t    g  200.0    1      0\n",
            "688  b  17.92   0.205  u  g  aa   v  ...    f   0   f    g  280.0  750      0\n",
            "689  b  35.00   3.375  u  g   c   h  ...    f   0   t    g    0.0    0      0\n",
            "\n",
            "[690 rows x 16 columns]\n",
            "f\n",
            "    C1     C2      C3 C4 C5  C6  C7  ...  C10 C11 C12  C13    C14  C15  Hired\n",
            "0    b  30.83   0.000  u  g   w   v  ...    t   1   f    g  202.0    0      1\n",
            "1    a  58.67   4.460  u  g   q   h  ...    t   6   f    g   43.0  560      1\n",
            "2    a  24.50   0.500  u  g   q   h  ...    f   0   f    g  280.0  824      1\n",
            "3    b  27.83   1.540  u  g   w   v  ...    t   5   t    g  100.0    3      1\n",
            "4    b  20.17   5.625  u  g   w   v  ...    f   0   f    s  120.0    0      1\n",
            "..  ..    ...     ... .. ..  ..  ..  ...  ...  ..  ..  ...    ...  ...    ...\n",
            "685  b  21.08  10.085  y  p   e   h  ...    f   0   f    g  260.0    0      0\n",
            "686  a  22.67   0.750  u  g   c   v  ...    t   2   t    g  200.0  394      0\n",
            "687  a  25.25  13.500  y  p  ff  ff  ...    t   1   t    g  200.0    1      0\n",
            "688  b  17.92   0.205  u  g  aa   v  ...    f   0   f    g  280.0  750      0\n",
            "689  b  35.00   3.375  u  g   c   h  ...    f   0   t    g    0.0    0      0\n",
            "\n",
            "[690 rows x 16 columns]\n",
            "f\n",
            "    C1     C2      C3 C4 C5  C6  C7  ...  C10 C11 C12  C13    C14  C15  Hired\n",
            "0    b  30.83   0.000  u  g   w   v  ...    t   1   f    g  202.0    0      1\n",
            "1    a  58.67   4.460  u  g   q   h  ...    t   6   f    g   43.0  560      1\n",
            "2    a  24.50   0.500  u  g   q   h  ...    f   0   f    g  280.0  824      1\n",
            "3    b  27.83   1.540  u  g   w   v  ...    t   5   t    g  100.0    3      1\n",
            "4    b  20.17   5.625  u  g   w   v  ...    f   0   f    s  120.0    0      1\n",
            "..  ..    ...     ... .. ..  ..  ..  ...  ...  ..  ..  ...    ...  ...    ...\n",
            "685  b  21.08  10.085  y  p   e   h  ...    f   0   f    g  260.0    0      0\n",
            "686  a  22.67   0.750  u  g   c   v  ...    t   2   t    g  200.0  394      0\n",
            "687  a  25.25  13.500  y  p  ff  ff  ...    t   1   t    g  200.0    1      0\n",
            "688  b  17.92   0.205  u  g  aa   v  ...    f   0   f    g  280.0  750      0\n",
            "689  b  35.00   3.375  u  g   c   h  ...    f   0   t    g    0.0    0      0\n",
            "\n",
            "[690 rows x 16 columns]\n",
            "g\n"
          ],
          "name": "stdout"
        },
        {
          "output_type": "execute_result",
          "data": {
            "text/plain": [
              "C1     0\n",
              "C4     0\n",
              "C5     0\n",
              "C6     0\n",
              "C7     0\n",
              "C9     0\n",
              "C10    0\n",
              "C12    0\n",
              "C13    0\n",
              "dtype: int64"
            ]
          },
          "metadata": {
            "tags": []
          },
          "execution_count": 10
        }
      ]
    },
    {
      "cell_type": "code",
      "metadata": {
        "colab": {
          "base_uri": "https://localhost:8080/"
        },
        "id": "PvgY2tlLjli5",
        "outputId": "647abd71-c526-49e4-c98f-bf3c55a02ed5"
      },
      "source": [
        "## Applying KNN algorithm for Numerical columns missing value imputation\n",
        "from sklearn.impute import KNNImputer\n",
        "import numpy as np\n",
        "\n",
        "imputer = KNNImputer(n_neighbors= 5)\n",
        "df[num] = imputer.fit_transform(df[num])\n",
        "print(df[num].isna().sum())"
      ],
      "execution_count": 11,
      "outputs": [
        {
          "output_type": "stream",
          "text": [
            "C2       0\n",
            "C3       0\n",
            "C8       0\n",
            "C11      0\n",
            "C14      0\n",
            "C15      0\n",
            "Hired    0\n",
            "dtype: int64\n"
          ],
          "name": "stdout"
        }
      ]
    },
    {
      "cell_type": "code",
      "metadata": {
        "colab": {
          "base_uri": "https://localhost:8080/",
          "height": 505
        },
        "id": "J33ge3S2jli5",
        "outputId": "f9322d2e-7458-4f79-a9bf-5d71f6270a0d"
      },
      "source": [
        "## Co-relation: Con: Can only find relation between Numberical variables\n",
        "figure(figsize=(12,8))\n",
        "sns.heatmap(df.corr(), annot=True)"
      ],
      "execution_count": 12,
      "outputs": [
        {
          "output_type": "execute_result",
          "data": {
            "text/plain": [
              "<matplotlib.axes._subplots.AxesSubplot at 0x7fc1f3458898>"
            ]
          },
          "metadata": {
            "tags": []
          },
          "execution_count": 12
        },
        {
          "output_type": "display_data",
          "data": {
            "image/png": "[encoded data removed]",
            "text/plain": [
              "<Figure size 864x576 with 2 Axes>"
            ]
          },
          "metadata": {
            "tags": [],
            "needs_background": "light"
          }
        }
      ]
    },
    {
      "cell_type": "code",
      "metadata": {
        "colab": {
          "base_uri": "https://localhost:8080/"
        },
        "id": "JbDeUgI9rkkW",
        "outputId": "83097832-2b4f-4799-ef4e-8f7e6af782dc"
      },
      "source": [
        "!pip install ppscore"
      ],
      "execution_count": 14,
      "outputs": [
        {
          "output_type": "stream",
          "text": [
            "Collecting ppscore\n",
            "\u001b[?25l  Downloading https://files.pythonhosted.org/packages/f7/25/5d7bc56240da13ef3be08ca4b6c61747d3ca3f8db649e67d97016a0629c8/ppscore-1.2.0.tar.gz (47kB)\n",
            "\r\u001b[K     |███████                         | 10kB 21.6MB/s eta 0:00:01\r\u001b[K     |██████████████                  | 20kB 17.3MB/s eta 0:00:01\r\u001b[K     |█████████████████████           | 30kB 14.6MB/s eta 0:00:01\r\u001b[K     |███████████████████████████▉    | 40kB 13.2MB/s eta 0:00:01\r\u001b[K     |████████████████████████████████| 51kB 4.9MB/s \n",
            "\u001b[?25hRequirement already satisfied: pandas<2.0.0,>=1.0.0 in /usr/local/lib/python3.6/dist-packages (from ppscore) (1.1.5)\n",
            "Requirement already satisfied: scikit-learn<1.0.0,>=0.20.2 in /usr/local/lib/python3.6/dist-packages (from ppscore) (0.22.2.post1)\n",
            "Requirement already satisfied: pytz>=2017.2 in /usr/local/lib/python3.6/dist-packages (from pandas<2.0.0,>=1.0.0->ppscore) (2018.9)\n",
            "Requirement already satisfied: python-dateutil>=2.7.3 in /usr/local/lib/python3.6/dist-packages (from pandas<2.0.0,>=1.0.0->ppscore) (2.8.1)\n",
            "Requirement already satisfied: numpy>=1.15.4 in /usr/local/lib/python3.6/dist-packages (from pandas<2.0.0,>=1.0.0->ppscore) (1.19.5)\n",
            "Requirement already satisfied: scipy>=0.17.0 in /usr/local/lib/python3.6/dist-packages (from scikit-learn<1.0.0,>=0.20.2->ppscore) (1.4.1)\n",
            "Requirement already satisfied: joblib>=0.11 in /usr/local/lib/python3.6/dist-packages (from scikit-learn<1.0.0,>=0.20.2->ppscore) (1.0.0)\n",
            "Requirement already satisfied: six>=1.5 in /usr/local/lib/python3.6/dist-packages (from python-dateutil>=2.7.3->pandas<2.0.0,>=1.0.0->ppscore) (1.15.0)\n",
            "Building wheels for collected packages: ppscore\n",
            "  Building wheel for ppscore (setup.py) ... \u001b[?25l\u001b[?25hdone\n",
            "  Created wheel for ppscore: filename=ppscore-1.2.0-py2.py3-none-any.whl size=13050 sha256=95f960487d07b554ca6c1a2fc6e3672df8a29f739c2c332399bcbf245a887017\n",
            "  Stored in directory: /root/.cache/pip/wheels/50/cc/8f/d0da07e4ec4e7a4c4cf32aee9057e4d1c318de910543b4684e\n",
            "Successfully built ppscore\n",
            "Installing collected packages: ppscore\n",
            "Successfully installed ppscore-1.2.0\n"
          ],
          "name": "stdout"
        }
      ]
    },
    {
      "cell_type": "code",
      "metadata": {
        "colab": {
          "base_uri": "https://localhost:8080/"
        },
        "id": "ZlUal3mg0jfg",
        "outputId": "c36ecf46-27fe-4034-d05e-a5ad403f0bb7"
      },
      "source": [
        "# PPScore Matrix \n",
        "# Predictive Power Score works similar to the coefficient of correlation but has some additional functionalities like:\n",
        "## It works on both Linear and Non-Linear Relationships\n",
        "## Can be applied to both Numeric and Categorical columns\n",
        "## It finds more patterns in the data.\n",
        "import ppscore as pps\n",
        "import seaborn as sns\n",
        "pps_matix = pps.matrix(df)\n",
        "print(pps_matix.head(5))"
      ],
      "execution_count": 15,
      "outputs": [
        {
          "output_type": "stream",
          "text": [
            "    x   y  ...  model_score                                              model\n",
            "0  C1  C1  ...     1.000000                                               None\n",
            "1  C1  C2  ...     9.396081  DecisionTreeRegressor(ccp_alpha=0.0, criterion...\n",
            "2  C1  C3  ...     3.955325  DecisionTreeRegressor(ccp_alpha=0.0, criterion...\n",
            "3  C1  C4  ...     0.657546  DecisionTreeClassifier(ccp_alpha=0.0, class_we...\n",
            "4  C1  C5  ...     0.657546  DecisionTreeClassifier(ccp_alpha=0.0, class_we...\n",
            "\n",
            "[5 rows x 9 columns]\n"
          ],
          "name": "stdout"
        }
      ]
    },
    {
      "cell_type": "code",
      "metadata": {
        "colab": {
          "base_uri": "https://localhost:8080/",
          "height": 627
        },
        "id": "4EJUS2eNjli5",
        "outputId": "9a8be0e7-d995-4771-92d4-4d109fad1fee"
      },
      "source": [
        "figure(figsize=(14,10))\n",
        "matrix_df = pps.matrix(df).pivot(columns='x', index='y',  values='ppscore')\n",
        "sns.heatmap(matrix_df, annot=True)"
      ],
      "execution_count": 16,
      "outputs": [
        {
          "output_type": "execute_result",
          "data": {
            "text/plain": [
              "<matplotlib.axes._subplots.AxesSubplot at 0x7fc1d60844e0>"
            ]
          },
          "metadata": {
            "tags": []
          },
          "execution_count": 16
        },
        {
          "output_type": "display_data",
          "data": {
            "image/png": "[encoded data removed]",
            "text/plain": [
              "<Figure size 1008x720 with 2 Axes>"
            ]
          },
          "metadata": {
            "tags": [],
            "needs_background": "light"
          }
        }
      ]
    },
    {
      "cell_type": "code",
      "metadata": {
        "id": "PHRhoXvQd6Kd",
        "colab": {
          "base_uri": "https://localhost:8080/"
        },
        "outputId": "1dfc87b4-a540-4262-8e8f-44c37e9fc1e3"
      },
      "source": [
        "# Droppng column C5 as PPscore beyween C4 and C5 is 1\n",
        "df.drop('C5', axis=1, inplace= True)\n",
        "print(df.columns)\n",
        "print(df.info())"
      ],
      "execution_count": 17,
      "outputs": [
        {
          "output_type": "stream",
          "text": [
            "Index(['C1', 'C2', 'C3', 'C4', 'C6', 'C7', 'C8', 'C9', 'C10', 'C11', 'C12',\n",
            "       'C13', 'C14', 'C15', 'Hired'],\n",
            "      dtype='object')\n",
            "<class 'pandas.core.frame.DataFrame'>\n",
            "RangeIndex: 690 entries, 0 to 689\n",
            "Data columns (total 15 columns):\n",
            " #   Column  Non-Null Count  Dtype  \n",
            "---  ------  --------------  -----  \n",
            " 0   C1      690 non-null    object \n",
            " 1   C2      690 non-null    float64\n",
            " 2   C3      690 non-null    float64\n",
            " 3   C4      690 non-null    object \n",
            " 4   C6      690 non-null    object \n",
            " 5   C7      690 non-null    object \n",
            " 6   C8      690 non-null    float64\n",
            " 7   C9      690 non-null    object \n",
            " 8   C10     690 non-null    object \n",
            " 9   C11     690 non-null    float64\n",
            " 10  C12     690 non-null    object \n",
            " 11  C13     690 non-null    object \n",
            " 12  C14     690 non-null    float64\n",
            " 13  C15     690 non-null    float64\n",
            " 14  Hired   690 non-null    float64\n",
            "dtypes: float64(7), object(8)\n",
            "memory usage: 81.0+ KB\n",
            "None\n"
          ],
          "name": "stdout"
        }
      ]
    },
    {
      "cell_type": "code",
      "metadata": {
        "id": "PHSRxAt-jli6"
      },
      "source": [
        "# Separating the dependent variable\n",
        "X = df.drop('Hired', axis= 1)\n",
        "y = df['Hired']"
      ],
      "execution_count": 18,
      "outputs": []
    },
    {
      "cell_type": "code",
      "metadata": {
        "colab": {
          "base_uri": "https://localhost:8080/"
        },
        "id": "IDdjayYxjli6",
        "outputId": "8eec24d3-ff58-426d-ec20-d2e173e9e20f"
      },
      "source": [
        "# One hot encoding ffor categorical variables\n",
        "X = pd.get_dummies(X)\n",
        "X.columns"
      ],
      "execution_count": 19,
      "outputs": [
        {
          "output_type": "execute_result",
          "data": {
            "text/plain": [
              "Index(['C2', 'C3', 'C8', 'C11', 'C14', 'C15', 'C1_a', 'C1_b', 'C4_l', 'C4_u',\n",
              "       'C4_y', 'C6_aa', 'C6_c', 'C6_cc', 'C6_d', 'C6_e', 'C6_ff', 'C6_i',\n",
              "       'C6_j', 'C6_k', 'C6_m', 'C6_q', 'C6_r', 'C6_w', 'C6_x', 'C7_bb',\n",
              "       'C7_dd', 'C7_ff', 'C7_h', 'C7_j', 'C7_n', 'C7_o', 'C7_v', 'C7_z',\n",
              "       'C9_f', 'C9_t', 'C10_f', 'C10_t', 'C12_f', 'C12_t', 'C13_g', 'C13_p',\n",
              "       'C13_s'],\n",
              "      dtype='object')"
            ]
          },
          "metadata": {
            "tags": []
          },
          "execution_count": 19
        }
      ]
    },
    {
      "cell_type": "code",
      "metadata": {
        "id": "cQ9etl1Zl6ct"
      },
      "source": [
        "## Splitting the dataset into Train and Test\n",
        "import sklearn.model_selection as model_selection\n",
        "X_train, X_test, y_train, y_test = model_selection.train_test_split(X, y, test_size =0.2, random_state = 0)"
      ],
      "execution_count": 20,
      "outputs": []
    },
    {
      "cell_type": "code",
      "metadata": {
        "colab": {
          "base_uri": "https://localhost:8080/",
          "height": 314
        },
        "id": "sB-cFzwAvxeg",
        "outputId": "8429f2be-0934-4400-eece-785b6c2c6f3f"
      },
      "source": [
        "X_train.describe()"
      ],
      "execution_count": 21,
      "outputs": [
        {
          "output_type": "execute_result",
          "data": {
            "text/html": [
              "<div>\n",
              "<style scoped>\n",
              "    .dataframe tbody tr th:only-of-type {\n",
              "        vertical-align: middle;\n",
              "    }\n",
              "\n",
              "    .dataframe tbody tr th {\n",
              "        vertical-align: top;\n",
              "    }\n",
              "\n",
              "    .dataframe thead th {\n",
              "        text-align: right;\n",
              "    }\n",
              "</style>\n",
              "<table border=\"1\" class=\"dataframe\">\n",
              "  <thead>\n",
              "    <tr style=\"text-align: right;\">\n",
              "      <th></th>\n",
              "      <th>C2</th>\n",
              "      <th>C3</th>\n",
              "      <th>C8</th>\n",
              "      <th>C11</th>\n",
              "      <th>C14</th>\n",
              "      <th>C15</th>\n",
              "      <th>C1_a</th>\n",
              "      <th>C1_b</th>\n",
              "      <th>C4_l</th>\n",
              "      <th>C4_u</th>\n",
              "      <th>C4_y</th>\n",
              "      <th>C6_aa</th>\n",
              "      <th>C6_c</th>\n",
              "      <th>C6_cc</th>\n",
              "      <th>C6_d</th>\n",
              "      <th>C6_e</th>\n",
              "      <th>C6_ff</th>\n",
              "      <th>C6_i</th>\n",
              "      <th>C6_j</th>\n",
              "      <th>C6_k</th>\n",
              "      <th>C6_m</th>\n",
              "      <th>C6_q</th>\n",
              "      <th>C6_r</th>\n",
              "      <th>C6_w</th>\n",
              "      <th>C6_x</th>\n",
              "      <th>C7_bb</th>\n",
              "      <th>C7_dd</th>\n",
              "      <th>C7_ff</th>\n",
              "      <th>C7_h</th>\n",
              "      <th>C7_j</th>\n",
              "      <th>C7_n</th>\n",
              "      <th>C7_o</th>\n",
              "      <th>C7_v</th>\n",
              "      <th>C7_z</th>\n",
              "      <th>C9_f</th>\n",
              "      <th>C9_t</th>\n",
              "      <th>C10_f</th>\n",
              "      <th>C10_t</th>\n",
              "      <th>C12_f</th>\n",
              "      <th>C12_t</th>\n",
              "      <th>C13_g</th>\n",
              "      <th>C13_p</th>\n",
              "      <th>C13_s</th>\n",
              "    </tr>\n",
              "  </thead>\n",
              "  <tbody>\n",
              "    <tr>\n",
              "      <th>count</th>\n",
              "      <td>552.000000</td>\n",
              "      <td>552.000000</td>\n",
              "      <td>552.00000</td>\n",
              "      <td>552.000000</td>\n",
              "      <td>552.000000</td>\n",
              "      <td>552.000000</td>\n",
              "      <td>552.000000</td>\n",
              "      <td>552.000000</td>\n",
              "      <td>552.000000</td>\n",
              "      <td>552.000000</td>\n",
              "      <td>552.000000</td>\n",
              "      <td>552.000000</td>\n",
              "      <td>552.000000</td>\n",
              "      <td>552.000000</td>\n",
              "      <td>552.000000</td>\n",
              "      <td>552.000000</td>\n",
              "      <td>552.000000</td>\n",
              "      <td>552.000000</td>\n",
              "      <td>552.000000</td>\n",
              "      <td>552.000000</td>\n",
              "      <td>552.000000</td>\n",
              "      <td>552.000000</td>\n",
              "      <td>552.000000</td>\n",
              "      <td>552.000000</td>\n",
              "      <td>552.000000</td>\n",
              "      <td>552.000000</td>\n",
              "      <td>552.000000</td>\n",
              "      <td>552.000000</td>\n",
              "      <td>552.000000</td>\n",
              "      <td>552.000000</td>\n",
              "      <td>552.000000</td>\n",
              "      <td>552.000000</td>\n",
              "      <td>552.000000</td>\n",
              "      <td>552.000000</td>\n",
              "      <td>552.000000</td>\n",
              "      <td>552.000000</td>\n",
              "      <td>552.000000</td>\n",
              "      <td>552.000000</td>\n",
              "      <td>552.000000</td>\n",
              "      <td>552.000000</td>\n",
              "      <td>552.000000</td>\n",
              "      <td>552.000000</td>\n",
              "      <td>552.000000</td>\n",
              "    </tr>\n",
              "    <tr>\n",
              "      <th>mean</th>\n",
              "      <td>31.849199</td>\n",
              "      <td>4.809611</td>\n",
              "      <td>2.33135</td>\n",
              "      <td>2.492754</td>\n",
              "      <td>182.498188</td>\n",
              "      <td>940.206522</td>\n",
              "      <td>0.297101</td>\n",
              "      <td>0.702899</td>\n",
              "      <td>0.001812</td>\n",
              "      <td>0.750000</td>\n",
              "      <td>0.248188</td>\n",
              "      <td>0.076087</td>\n",
              "      <td>0.202899</td>\n",
              "      <td>0.057971</td>\n",
              "      <td>0.047101</td>\n",
              "      <td>0.041667</td>\n",
              "      <td>0.076087</td>\n",
              "      <td>0.085145</td>\n",
              "      <td>0.016304</td>\n",
              "      <td>0.081522</td>\n",
              "      <td>0.056159</td>\n",
              "      <td>0.112319</td>\n",
              "      <td>0.005435</td>\n",
              "      <td>0.097826</td>\n",
              "      <td>0.043478</td>\n",
              "      <td>0.083333</td>\n",
              "      <td>0.009058</td>\n",
              "      <td>0.083333</td>\n",
              "      <td>0.199275</td>\n",
              "      <td>0.010870</td>\n",
              "      <td>0.007246</td>\n",
              "      <td>0.001812</td>\n",
              "      <td>0.590580</td>\n",
              "      <td>0.014493</td>\n",
              "      <td>0.469203</td>\n",
              "      <td>0.530797</td>\n",
              "      <td>0.563406</td>\n",
              "      <td>0.436594</td>\n",
              "      <td>0.545290</td>\n",
              "      <td>0.454710</td>\n",
              "      <td>0.907609</td>\n",
              "      <td>0.009058</td>\n",
              "      <td>0.083333</td>\n",
              "    </tr>\n",
              "    <tr>\n",
              "      <th>std</th>\n",
              "      <td>11.902560</td>\n",
              "      <td>5.076539</td>\n",
              "      <td>3.49959</td>\n",
              "      <td>5.125639</td>\n",
              "      <td>172.552960</td>\n",
              "      <td>3908.665758</td>\n",
              "      <td>0.457396</td>\n",
              "      <td>0.457396</td>\n",
              "      <td>0.042563</td>\n",
              "      <td>0.433405</td>\n",
              "      <td>0.432354</td>\n",
              "      <td>0.265378</td>\n",
              "      <td>0.402522</td>\n",
              "      <td>0.233901</td>\n",
              "      <td>0.212048</td>\n",
              "      <td>0.200008</td>\n",
              "      <td>0.265378</td>\n",
              "      <td>0.279350</td>\n",
              "      <td>0.126758</td>\n",
              "      <td>0.273883</td>\n",
              "      <td>0.230438</td>\n",
              "      <td>0.316045</td>\n",
              "      <td>0.073587</td>\n",
              "      <td>0.297349</td>\n",
              "      <td>0.204116</td>\n",
              "      <td>0.276636</td>\n",
              "      <td>0.094827</td>\n",
              "      <td>0.276636</td>\n",
              "      <td>0.399818</td>\n",
              "      <td>0.103783</td>\n",
              "      <td>0.084894</td>\n",
              "      <td>0.042563</td>\n",
              "      <td>0.492173</td>\n",
              "      <td>0.119619</td>\n",
              "      <td>0.499503</td>\n",
              "      <td>0.499503</td>\n",
              "      <td>0.496413</td>\n",
              "      <td>0.496413</td>\n",
              "      <td>0.498396</td>\n",
              "      <td>0.498396</td>\n",
              "      <td>0.289840</td>\n",
              "      <td>0.094827</td>\n",
              "      <td>0.276636</td>\n",
              "    </tr>\n",
              "    <tr>\n",
              "      <th>min</th>\n",
              "      <td>13.750000</td>\n",
              "      <td>0.000000</td>\n",
              "      <td>0.00000</td>\n",
              "      <td>0.000000</td>\n",
              "      <td>0.000000</td>\n",
              "      <td>0.000000</td>\n",
              "      <td>0.000000</td>\n",
              "      <td>0.000000</td>\n",
              "      <td>0.000000</td>\n",
              "      <td>0.000000</td>\n",
              "      <td>0.000000</td>\n",
              "      <td>0.000000</td>\n",
              "      <td>0.000000</td>\n",
              "      <td>0.000000</td>\n",
              "      <td>0.000000</td>\n",
              "      <td>0.000000</td>\n",
              "      <td>0.000000</td>\n",
              "      <td>0.000000</td>\n",
              "      <td>0.000000</td>\n",
              "      <td>0.000000</td>\n",
              "      <td>0.000000</td>\n",
              "      <td>0.000000</td>\n",
              "      <td>0.000000</td>\n",
              "      <td>0.000000</td>\n",
              "      <td>0.000000</td>\n",
              "      <td>0.000000</td>\n",
              "      <td>0.000000</td>\n",
              "      <td>0.000000</td>\n",
              "      <td>0.000000</td>\n",
              "      <td>0.000000</td>\n",
              "      <td>0.000000</td>\n",
              "      <td>0.000000</td>\n",
              "      <td>0.000000</td>\n",
              "      <td>0.000000</td>\n",
              "      <td>0.000000</td>\n",
              "      <td>0.000000</td>\n",
              "      <td>0.000000</td>\n",
              "      <td>0.000000</td>\n",
              "      <td>0.000000</td>\n",
              "      <td>0.000000</td>\n",
              "      <td>0.000000</td>\n",
              "      <td>0.000000</td>\n",
              "      <td>0.000000</td>\n",
              "    </tr>\n",
              "    <tr>\n",
              "      <th>25%</th>\n",
              "      <td>22.670000</td>\n",
              "      <td>1.000000</td>\n",
              "      <td>0.16500</td>\n",
              "      <td>0.000000</td>\n",
              "      <td>72.250000</td>\n",
              "      <td>0.000000</td>\n",
              "      <td>0.000000</td>\n",
              "      <td>0.000000</td>\n",
              "      <td>0.000000</td>\n",
              "      <td>0.750000</td>\n",
              "      <td>0.000000</td>\n",
              "      <td>0.000000</td>\n",
              "      <td>0.000000</td>\n",
              "      <td>0.000000</td>\n",
              "      <td>0.000000</td>\n",
              "      <td>0.000000</td>\n",
              "      <td>0.000000</td>\n",
              "      <td>0.000000</td>\n",
              "      <td>0.000000</td>\n",
              "      <td>0.000000</td>\n",
              "      <td>0.000000</td>\n",
              "      <td>0.000000</td>\n",
              "      <td>0.000000</td>\n",
              "      <td>0.000000</td>\n",
              "      <td>0.000000</td>\n",
              "      <td>0.000000</td>\n",
              "      <td>0.000000</td>\n",
              "      <td>0.000000</td>\n",
              "      <td>0.000000</td>\n",
              "      <td>0.000000</td>\n",
              "      <td>0.000000</td>\n",
              "      <td>0.000000</td>\n",
              "      <td>0.000000</td>\n",
              "      <td>0.000000</td>\n",
              "      <td>0.000000</td>\n",
              "      <td>0.000000</td>\n",
              "      <td>0.000000</td>\n",
              "      <td>0.000000</td>\n",
              "      <td>0.000000</td>\n",
              "      <td>0.000000</td>\n",
              "      <td>1.000000</td>\n",
              "      <td>0.000000</td>\n",
              "      <td>0.000000</td>\n",
              "    </tr>\n",
              "    <tr>\n",
              "      <th>50%</th>\n",
              "      <td>29.045000</td>\n",
              "      <td>2.792500</td>\n",
              "      <td>1.00000</td>\n",
              "      <td>0.000000</td>\n",
              "      <td>160.000000</td>\n",
              "      <td>5.000000</td>\n",
              "      <td>0.000000</td>\n",
              "      <td>1.000000</td>\n",
              "      <td>0.000000</td>\n",
              "      <td>1.000000</td>\n",
              "      <td>0.000000</td>\n",
              "      <td>0.000000</td>\n",
              "      <td>0.000000</td>\n",
              "      <td>0.000000</td>\n",
              "      <td>0.000000</td>\n",
              "      <td>0.000000</td>\n",
              "      <td>0.000000</td>\n",
              "      <td>0.000000</td>\n",
              "      <td>0.000000</td>\n",
              "      <td>0.000000</td>\n",
              "      <td>0.000000</td>\n",
              "      <td>0.000000</td>\n",
              "      <td>0.000000</td>\n",
              "      <td>0.000000</td>\n",
              "      <td>0.000000</td>\n",
              "      <td>0.000000</td>\n",
              "      <td>0.000000</td>\n",
              "      <td>0.000000</td>\n",
              "      <td>0.000000</td>\n",
              "      <td>0.000000</td>\n",
              "      <td>0.000000</td>\n",
              "      <td>0.000000</td>\n",
              "      <td>1.000000</td>\n",
              "      <td>0.000000</td>\n",
              "      <td>0.000000</td>\n",
              "      <td>1.000000</td>\n",
              "      <td>1.000000</td>\n",
              "      <td>0.000000</td>\n",
              "      <td>1.000000</td>\n",
              "      <td>0.000000</td>\n",
              "      <td>1.000000</td>\n",
              "      <td>0.000000</td>\n",
              "      <td>0.000000</td>\n",
              "    </tr>\n",
              "    <tr>\n",
              "      <th>75%</th>\n",
              "      <td>38.460000</td>\n",
              "      <td>7.500000</td>\n",
              "      <td>3.00000</td>\n",
              "      <td>3.000000</td>\n",
              "      <td>280.000000</td>\n",
              "      <td>397.000000</td>\n",
              "      <td>1.000000</td>\n",
              "      <td>1.000000</td>\n",
              "      <td>0.000000</td>\n",
              "      <td>1.000000</td>\n",
              "      <td>0.000000</td>\n",
              "      <td>0.000000</td>\n",
              "      <td>0.000000</td>\n",
              "      <td>0.000000</td>\n",
              "      <td>0.000000</td>\n",
              "      <td>0.000000</td>\n",
              "      <td>0.000000</td>\n",
              "      <td>0.000000</td>\n",
              "      <td>0.000000</td>\n",
              "      <td>0.000000</td>\n",
              "      <td>0.000000</td>\n",
              "      <td>0.000000</td>\n",
              "      <td>0.000000</td>\n",
              "      <td>0.000000</td>\n",
              "      <td>0.000000</td>\n",
              "      <td>0.000000</td>\n",
              "      <td>0.000000</td>\n",
              "      <td>0.000000</td>\n",
              "      <td>0.000000</td>\n",
              "      <td>0.000000</td>\n",
              "      <td>0.000000</td>\n",
              "      <td>0.000000</td>\n",
              "      <td>1.000000</td>\n",
              "      <td>0.000000</td>\n",
              "      <td>1.000000</td>\n",
              "      <td>1.000000</td>\n",
              "      <td>1.000000</td>\n",
              "      <td>1.000000</td>\n",
              "      <td>1.000000</td>\n",
              "      <td>1.000000</td>\n",
              "      <td>1.000000</td>\n",
              "      <td>0.000000</td>\n",
              "      <td>0.000000</td>\n",
              "    </tr>\n",
              "    <tr>\n",
              "      <th>max</th>\n",
              "      <td>76.750000</td>\n",
              "      <td>28.000000</td>\n",
              "      <td>28.50000</td>\n",
              "      <td>67.000000</td>\n",
              "      <td>2000.000000</td>\n",
              "      <td>51100.000000</td>\n",
              "      <td>1.000000</td>\n",
              "      <td>1.000000</td>\n",
              "      <td>1.000000</td>\n",
              "      <td>1.000000</td>\n",
              "      <td>1.000000</td>\n",
              "      <td>1.000000</td>\n",
              "      <td>1.000000</td>\n",
              "      <td>1.000000</td>\n",
              "      <td>1.000000</td>\n",
              "      <td>1.000000</td>\n",
              "      <td>1.000000</td>\n",
              "      <td>1.000000</td>\n",
              "      <td>1.000000</td>\n",
              "      <td>1.000000</td>\n",
              "      <td>1.000000</td>\n",
              "      <td>1.000000</td>\n",
              "      <td>1.000000</td>\n",
              "      <td>1.000000</td>\n",
              "      <td>1.000000</td>\n",
              "      <td>1.000000</td>\n",
              "      <td>1.000000</td>\n",
              "      <td>1.000000</td>\n",
              "      <td>1.000000</td>\n",
              "      <td>1.000000</td>\n",
              "      <td>1.000000</td>\n",
              "      <td>1.000000</td>\n",
              "      <td>1.000000</td>\n",
              "      <td>1.000000</td>\n",
              "      <td>1.000000</td>\n",
              "      <td>1.000000</td>\n",
              "      <td>1.000000</td>\n",
              "      <td>1.000000</td>\n",
              "      <td>1.000000</td>\n",
              "      <td>1.000000</td>\n",
              "      <td>1.000000</td>\n",
              "      <td>1.000000</td>\n",
              "      <td>1.000000</td>\n",
              "    </tr>\n",
              "  </tbody>\n",
              "</table>\n",
              "</div>"
            ],
            "text/plain": [
              "               C2          C3         C8  ...       C13_g       C13_p       C13_s\n",
              "count  552.000000  552.000000  552.00000  ...  552.000000  552.000000  552.000000\n",
              "mean    31.849199    4.809611    2.33135  ...    0.907609    0.009058    0.083333\n",
              "std     11.902560    5.076539    3.49959  ...    0.289840    0.094827    0.276636\n",
              "min     13.750000    0.000000    0.00000  ...    0.000000    0.000000    0.000000\n",
              "25%     22.670000    1.000000    0.16500  ...    1.000000    0.000000    0.000000\n",
              "50%     29.045000    2.792500    1.00000  ...    1.000000    0.000000    0.000000\n",
              "75%     38.460000    7.500000    3.00000  ...    1.000000    0.000000    0.000000\n",
              "max     76.750000   28.000000   28.50000  ...    1.000000    1.000000    1.000000\n",
              "\n",
              "[8 rows x 43 columns]"
            ]
          },
          "metadata": {
            "tags": []
          },
          "execution_count": 21
        }
      ]
    },
    {
      "cell_type": "code",
      "metadata": {
        "colab": {
          "base_uri": "https://localhost:8080/",
          "height": 222
        },
        "id": "boPJuwLcv9-b",
        "outputId": "7130d3f5-c77f-4365-9597-adefc46abe55"
      },
      "source": [
        "# as there is pps score 1 for C4, C5 then we should remove 1 variable\n",
        "X_train.head()"
      ],
      "execution_count": 22,
      "outputs": [
        {
          "output_type": "execute_result",
          "data": {
            "text/html": [
              "<div>\n",
              "<style scoped>\n",
              "    .dataframe tbody tr th:only-of-type {\n",
              "        vertical-align: middle;\n",
              "    }\n",
              "\n",
              "    .dataframe tbody tr th {\n",
              "        vertical-align: top;\n",
              "    }\n",
              "\n",
              "    .dataframe thead th {\n",
              "        text-align: right;\n",
              "    }\n",
              "</style>\n",
              "<table border=\"1\" class=\"dataframe\">\n",
              "  <thead>\n",
              "    <tr style=\"text-align: right;\">\n",
              "      <th></th>\n",
              "      <th>C2</th>\n",
              "      <th>C3</th>\n",
              "      <th>C8</th>\n",
              "      <th>C11</th>\n",
              "      <th>C14</th>\n",
              "      <th>C15</th>\n",
              "      <th>C1_a</th>\n",
              "      <th>C1_b</th>\n",
              "      <th>C4_l</th>\n",
              "      <th>C4_u</th>\n",
              "      <th>C4_y</th>\n",
              "      <th>C6_aa</th>\n",
              "      <th>C6_c</th>\n",
              "      <th>C6_cc</th>\n",
              "      <th>C6_d</th>\n",
              "      <th>C6_e</th>\n",
              "      <th>C6_ff</th>\n",
              "      <th>C6_i</th>\n",
              "      <th>C6_j</th>\n",
              "      <th>C6_k</th>\n",
              "      <th>C6_m</th>\n",
              "      <th>C6_q</th>\n",
              "      <th>C6_r</th>\n",
              "      <th>C6_w</th>\n",
              "      <th>C6_x</th>\n",
              "      <th>C7_bb</th>\n",
              "      <th>C7_dd</th>\n",
              "      <th>C7_ff</th>\n",
              "      <th>C7_h</th>\n",
              "      <th>C7_j</th>\n",
              "      <th>C7_n</th>\n",
              "      <th>C7_o</th>\n",
              "      <th>C7_v</th>\n",
              "      <th>C7_z</th>\n",
              "      <th>C9_f</th>\n",
              "      <th>C9_t</th>\n",
              "      <th>C10_f</th>\n",
              "      <th>C10_t</th>\n",
              "      <th>C12_f</th>\n",
              "      <th>C12_t</th>\n",
              "      <th>C13_g</th>\n",
              "      <th>C13_p</th>\n",
              "      <th>C13_s</th>\n",
              "    </tr>\n",
              "  </thead>\n",
              "  <tbody>\n",
              "    <tr>\n",
              "      <th>127</th>\n",
              "      <td>22.75</td>\n",
              "      <td>11.0</td>\n",
              "      <td>2.500</td>\n",
              "      <td>7.0</td>\n",
              "      <td>100.0</td>\n",
              "      <td>809.0</td>\n",
              "      <td>0</td>\n",
              "      <td>1</td>\n",
              "      <td>0</td>\n",
              "      <td>1</td>\n",
              "      <td>0</td>\n",
              "      <td>0</td>\n",
              "      <td>0</td>\n",
              "      <td>0</td>\n",
              "      <td>0</td>\n",
              "      <td>0</td>\n",
              "      <td>0</td>\n",
              "      <td>0</td>\n",
              "      <td>0</td>\n",
              "      <td>0</td>\n",
              "      <td>0</td>\n",
              "      <td>1</td>\n",
              "      <td>0</td>\n",
              "      <td>0</td>\n",
              "      <td>0</td>\n",
              "      <td>0</td>\n",
              "      <td>0</td>\n",
              "      <td>0</td>\n",
              "      <td>0</td>\n",
              "      <td>0</td>\n",
              "      <td>0</td>\n",
              "      <td>0</td>\n",
              "      <td>1</td>\n",
              "      <td>0</td>\n",
              "      <td>0</td>\n",
              "      <td>1</td>\n",
              "      <td>0</td>\n",
              "      <td>1</td>\n",
              "      <td>0</td>\n",
              "      <td>1</td>\n",
              "      <td>1</td>\n",
              "      <td>0</td>\n",
              "      <td>0</td>\n",
              "    </tr>\n",
              "    <tr>\n",
              "      <th>391</th>\n",
              "      <td>39.92</td>\n",
              "      <td>5.0</td>\n",
              "      <td>0.210</td>\n",
              "      <td>0.0</td>\n",
              "      <td>550.0</td>\n",
              "      <td>0.0</td>\n",
              "      <td>0</td>\n",
              "      <td>1</td>\n",
              "      <td>0</td>\n",
              "      <td>1</td>\n",
              "      <td>0</td>\n",
              "      <td>0</td>\n",
              "      <td>0</td>\n",
              "      <td>0</td>\n",
              "      <td>0</td>\n",
              "      <td>0</td>\n",
              "      <td>0</td>\n",
              "      <td>1</td>\n",
              "      <td>0</td>\n",
              "      <td>0</td>\n",
              "      <td>0</td>\n",
              "      <td>0</td>\n",
              "      <td>0</td>\n",
              "      <td>0</td>\n",
              "      <td>0</td>\n",
              "      <td>1</td>\n",
              "      <td>0</td>\n",
              "      <td>0</td>\n",
              "      <td>0</td>\n",
              "      <td>0</td>\n",
              "      <td>0</td>\n",
              "      <td>0</td>\n",
              "      <td>0</td>\n",
              "      <td>0</td>\n",
              "      <td>1</td>\n",
              "      <td>0</td>\n",
              "      <td>1</td>\n",
              "      <td>0</td>\n",
              "      <td>1</td>\n",
              "      <td>0</td>\n",
              "      <td>1</td>\n",
              "      <td>0</td>\n",
              "      <td>0</td>\n",
              "    </tr>\n",
              "    <tr>\n",
              "      <th>21</th>\n",
              "      <td>23.25</td>\n",
              "      <td>1.0</td>\n",
              "      <td>0.835</td>\n",
              "      <td>0.0</td>\n",
              "      <td>300.0</td>\n",
              "      <td>0.0</td>\n",
              "      <td>0</td>\n",
              "      <td>1</td>\n",
              "      <td>0</td>\n",
              "      <td>1</td>\n",
              "      <td>0</td>\n",
              "      <td>0</td>\n",
              "      <td>1</td>\n",
              "      <td>0</td>\n",
              "      <td>0</td>\n",
              "      <td>0</td>\n",
              "      <td>0</td>\n",
              "      <td>0</td>\n",
              "      <td>0</td>\n",
              "      <td>0</td>\n",
              "      <td>0</td>\n",
              "      <td>0</td>\n",
              "      <td>0</td>\n",
              "      <td>0</td>\n",
              "      <td>0</td>\n",
              "      <td>0</td>\n",
              "      <td>0</td>\n",
              "      <td>0</td>\n",
              "      <td>0</td>\n",
              "      <td>0</td>\n",
              "      <td>0</td>\n",
              "      <td>0</td>\n",
              "      <td>1</td>\n",
              "      <td>0</td>\n",
              "      <td>0</td>\n",
              "      <td>1</td>\n",
              "      <td>1</td>\n",
              "      <td>0</td>\n",
              "      <td>1</td>\n",
              "      <td>0</td>\n",
              "      <td>0</td>\n",
              "      <td>0</td>\n",
              "      <td>1</td>\n",
              "    </tr>\n",
              "    <tr>\n",
              "      <th>549</th>\n",
              "      <td>48.33</td>\n",
              "      <td>12.0</td>\n",
              "      <td>16.000</td>\n",
              "      <td>0.0</td>\n",
              "      <td>110.0</td>\n",
              "      <td>0.0</td>\n",
              "      <td>0</td>\n",
              "      <td>1</td>\n",
              "      <td>0</td>\n",
              "      <td>1</td>\n",
              "      <td>0</td>\n",
              "      <td>0</td>\n",
              "      <td>0</td>\n",
              "      <td>0</td>\n",
              "      <td>0</td>\n",
              "      <td>0</td>\n",
              "      <td>0</td>\n",
              "      <td>0</td>\n",
              "      <td>0</td>\n",
              "      <td>0</td>\n",
              "      <td>1</td>\n",
              "      <td>0</td>\n",
              "      <td>0</td>\n",
              "      <td>0</td>\n",
              "      <td>0</td>\n",
              "      <td>0</td>\n",
              "      <td>0</td>\n",
              "      <td>0</td>\n",
              "      <td>0</td>\n",
              "      <td>0</td>\n",
              "      <td>0</td>\n",
              "      <td>0</td>\n",
              "      <td>1</td>\n",
              "      <td>0</td>\n",
              "      <td>0</td>\n",
              "      <td>1</td>\n",
              "      <td>1</td>\n",
              "      <td>0</td>\n",
              "      <td>1</td>\n",
              "      <td>0</td>\n",
              "      <td>0</td>\n",
              "      <td>0</td>\n",
              "      <td>1</td>\n",
              "    </tr>\n",
              "    <tr>\n",
              "      <th>339</th>\n",
              "      <td>28.00</td>\n",
              "      <td>3.0</td>\n",
              "      <td>0.750</td>\n",
              "      <td>0.0</td>\n",
              "      <td>300.0</td>\n",
              "      <td>67.0</td>\n",
              "      <td>0</td>\n",
              "      <td>1</td>\n",
              "      <td>0</td>\n",
              "      <td>1</td>\n",
              "      <td>0</td>\n",
              "      <td>0</td>\n",
              "      <td>0</td>\n",
              "      <td>0</td>\n",
              "      <td>0</td>\n",
              "      <td>0</td>\n",
              "      <td>0</td>\n",
              "      <td>0</td>\n",
              "      <td>0</td>\n",
              "      <td>0</td>\n",
              "      <td>0</td>\n",
              "      <td>0</td>\n",
              "      <td>0</td>\n",
              "      <td>1</td>\n",
              "      <td>0</td>\n",
              "      <td>0</td>\n",
              "      <td>0</td>\n",
              "      <td>0</td>\n",
              "      <td>0</td>\n",
              "      <td>0</td>\n",
              "      <td>0</td>\n",
              "      <td>0</td>\n",
              "      <td>1</td>\n",
              "      <td>0</td>\n",
              "      <td>1</td>\n",
              "      <td>0</td>\n",
              "      <td>1</td>\n",
              "      <td>0</td>\n",
              "      <td>0</td>\n",
              "      <td>1</td>\n",
              "      <td>1</td>\n",
              "      <td>0</td>\n",
              "      <td>0</td>\n",
              "    </tr>\n",
              "  </tbody>\n",
              "</table>\n",
              "</div>"
            ],
            "text/plain": [
              "        C2    C3      C8  C11    C14  ...  C12_f  C12_t  C13_g  C13_p  C13_s\n",
              "127  22.75  11.0   2.500  7.0  100.0  ...      0      1      1      0      0\n",
              "391  39.92   5.0   0.210  0.0  550.0  ...      1      0      1      0      0\n",
              "21   23.25   1.0   0.835  0.0  300.0  ...      1      0      0      0      1\n",
              "549  48.33  12.0  16.000  0.0  110.0  ...      1      0      0      0      1\n",
              "339  28.00   3.0   0.750  0.0  300.0  ...      0      1      1      0      0\n",
              "\n",
              "[5 rows x 43 columns]"
            ]
          },
          "metadata": {
            "tags": []
          },
          "execution_count": 22
        }
      ]
    },
    {
      "cell_type": "code",
      "metadata": {
        "id": "rKHfU9sUxVYw"
      },
      "source": [
        "from sklearn.ensemble import RandomForestClassifier\n",
        "from sklearn.model_selection import train_test_split\n",
        "from sklearn.linear_model import LogisticRegression\n",
        "from sklearn.metrics import accuracy_score\n",
        "from xgboost import XGBClassifier\n",
        "accuracies = {}"
      ],
      "execution_count": 23,
      "outputs": []
    },
    {
      "cell_type": "code",
      "metadata": {
        "id": "Y6MkJa6Jx9YU"
      },
      "source": [
        "model_eval = pd.DataFrame(index= ['Random Forest'], columns =['Score'])"
      ],
      "execution_count": 24,
      "outputs": []
    },
    {
      "cell_type": "code",
      "metadata": {
        "id": "nTzvOWuMye5E",
        "colab": {
          "base_uri": "https://localhost:8080/"
        },
        "outputId": "18419f12-7cce-49af-8cc9-5480b819e926"
      },
      "source": [
        "rf = RandomForestClassifier()\n",
        "rf.fit(X_train, y_train)\n",
        "ypred = rf.predict(X_test)\n",
        "acc = accuracy_score(ypred, y_test)*100\n",
        "accuracies['Random Forest'] = acc\n",
        "print(\"Test Accuracy {:.2f}%\".format(acc))"
      ],
      "execution_count": 25,
      "outputs": [
        {
          "output_type": "stream",
          "text": [
            "Test Accuracy 83.33%\n"
          ],
          "name": "stdout"
        }
      ]
    },
    {
      "cell_type": "code",
      "metadata": {
        "id": "76b_8eqJy-Xk",
        "colab": {
          "base_uri": "https://localhost:8080/"
        },
        "outputId": "cb5c7cfb-39d3-4d1b-8d0f-b3c6d2743b93"
      },
      "source": [
        "log = LogisticRegression()\n",
        "log.fit(X_train, y_train)\n",
        "ypred2 = log.predict(X_test)\n",
        "acc = accuracy_score(ypred2, y_test)*100\n",
        "accuracies['Logistic Regression'] = acc\n",
        "print(\"Test Accuracy {:.2f}%\".format(acc))"
      ],
      "execution_count": 26,
      "outputs": [
        {
          "output_type": "stream",
          "text": [
            "Test Accuracy 84.06%\n"
          ],
          "name": "stdout"
        }
      ]
    },
    {
      "cell_type": "code",
      "metadata": {
        "id": "ZJtplGL5zLkn",
        "colab": {
          "base_uri": "https://localhost:8080/"
        },
        "outputId": "aec10acd-93aa-4e50-b105-9268b23da8d7"
      },
      "source": [
        "xg = XGBClassifier()\n",
        "xg.fit(X_train, y_train)\n",
        "ypred3 = xg.predict(X_test)\n",
        "acc = accuracy_score(ypred3, y_test)*100\n",
        "accuracies['XG Boost'] = acc\n",
        "print(\"Test Accuracy {:.2f}%\".format(acc))"
      ],
      "execution_count": 27,
      "outputs": [
        {
          "output_type": "stream",
          "text": [
            "Test Accuracy 84.06%\n"
          ],
          "name": "stdout"
        }
      ]
    },
    {
      "cell_type": "code",
      "metadata": {
        "id": "r47rRKUEzaLX",
        "colab": {
          "base_uri": "https://localhost:8080/"
        },
        "outputId": "434f91c4-31d6-4569-bc0f-d3107fa32b9d"
      },
      "source": [
        "model_eval.loc['Random Forest', 'Score'] = accuracy_score(ypred, y_test)\n",
        "model_eval.loc['Logistic', 'Score'] = accuracy_score(ypred2, y_test)\n",
        "model_eval.loc['XGBoost', 'Score'] = accuracy_score(ypred3, y_test)\n",
        "print(model_eval)"
      ],
      "execution_count": 28,
      "outputs": [
        {
          "output_type": "stream",
          "text": [
            "                  Score\n",
            "Random Forest  0.833333\n",
            "Logistic        0.84058\n",
            "XGBoost         0.84058\n"
          ],
          "name": "stdout"
        }
      ]
    },
    {
      "cell_type": "code",
      "metadata": {
        "colab": {
          "base_uri": "https://localhost:8080/",
          "height": 306
        },
        "id": "w0xmOOTN0hTO",
        "outputId": "9bc22de2-2b9c-4c12-8689-0546b5591d81"
      },
      "source": [
        "import matplotlib.pyplot as plt\n",
        "colors = [\"purple\", \"green\", \"orange\"]\n",
        "\n",
        "sns.set_style(\"whitegrid\")\n",
        "plt.figure(figsize=(16,5))\n",
        "plt.yticks(np.arange(0,100,10))\n",
        "plt.ylabel(\"Accuracy %\")\n",
        "plt.xlabel(\"Algorithms\")\n",
        "sns.barplot(x=list(accuracies.keys()), y=list(accuracies.values()), palette=colors)\n",
        "plt.show()"
      ],
      "execution_count": 29,
      "outputs": [
        {
          "output_type": "display_data",
          "data": {
            "image/png": "[encoded data removed]",
            "text/plain": [
              "<Figure size 1152x360 with 1 Axes>"
            ]
          },
          "metadata": {
            "tags": []
          }
        }
      ]
    },
    {
      "cell_type": "code",
      "metadata": {
        "id": "sH9FWuSXjli8"
      },
      "source": [
        "## CONFUSION MATRIX\n",
        "from sklearn.metrics import confusion_matrix\n",
        "\n",
        "cm_rf = confusion_matrix(y_test,ypred)\n",
        "cm_lr = confusion_matrix(y_test,ypred2)\n",
        "cm_xgb = confusion_matrix(y_test,ypred3)"
      ],
      "execution_count": 30,
      "outputs": []
    },
    {
      "cell_type": "code",
      "metadata": {
        "colab": {
          "base_uri": "https://localhost:8080/",
          "height": 278
        },
        "id": "Wnq3RYYNjli8",
        "outputId": "f7ec5640-81ec-48a7-b3e9-8fc125540381"
      },
      "source": [
        "plt.figure(figsize=(24,12))\n",
        "\n",
        "plt.suptitle(\"Confusion Matrixes\",fontsize=24)\n",
        "plt.subplots_adjust(wspace = 0.4, hspace= 0.4)\n",
        "\n",
        "plt.subplot(2,3,2)\n",
        "plt.title(\"Random Forest Confusion Matrix\")\n",
        "sns.heatmap(cm_rf,annot=True,cmap=\"Blues\",fmt=\"d\",cbar=False, annot_kws={\"size\": 24})\n",
        "\n",
        "plt.subplot(2,3,1)\n",
        "plt.title(\"Logistic Regression Confusion Matrix\")\n",
        "sns.heatmap(cm_lr,annot=True,cmap=\"Blues\",fmt=\"d\",cbar=False, annot_kws={\"size\": 24})\n",
        "\n",
        "plt.subplot(2,3,3)\n",
        "plt.title(\"XG Boost Confusion Matrix\")\n",
        "sns.heatmap(cm_xgb,annot=True,cmap=\"Blues\",fmt=\"d\",cbar=False, annot_kws={\"size\": 24})\n",
        "\n",
        "plt.show"
      ],
      "execution_count": 31,
      "outputs": [
        {
          "output_type": "execute_result",
          "data": {
            "text/plain": [
              "<function matplotlib.pyplot.show>"
            ]
          },
          "metadata": {
            "tags": []
          },
          "execution_count": 31
        },
        {
          "output_type": "display_data",
          "data": {
            "image/png": "[encoded data removed]",
            "text/plain": [
              "<Figure size 1728x864 with 3 Axes>"
            ]
          },
          "metadata": {
            "tags": []
          }
        }
      ]
    },
    {
      "cell_type": "code",
      "metadata": {
        "colab": {
          "base_uri": "https://localhost:8080/"
        },
        "id": "f9oVakyd0o6z",
        "outputId": "ce5e0a27-f3f9-48a6-f20d-7d6ef347f02f"
      },
      "source": [
        "import joblib\n",
        "joblib.dump(log,'model')"
      ],
      "execution_count": 32,
      "outputs": [
        {
          "output_type": "execute_result",
          "data": {
            "text/plain": [
              "['model']"
            ]
          },
          "metadata": {
            "tags": []
          },
          "execution_count": 32
        }
      ]
    },
    {
      "cell_type": "code",
      "metadata": {
        "colab": {
          "base_uri": "https://localhost:8080/"
        },
        "id": "zg8MmBJj1rjN",
        "outputId": "b3aab002-22cb-4ae5-b64e-10f0400a7494"
      },
      "source": [
        "rf.feature_importances_"
      ],
      "execution_count": 33,
      "outputs": [
        {
          "output_type": "execute_result",
          "data": {
            "text/plain": [
              "array([5.53899537e-02, 6.37019593e-02, 7.46447268e-02, 6.67964123e-02,\n",
              "       5.86047453e-02, 6.19431022e-02, 6.05897834e-03, 7.24348772e-03,\n",
              "       1.24184949e-03, 1.67918718e-02, 1.56621289e-02, 5.10847151e-03,\n",
              "       6.97329000e-03, 4.81974783e-03, 4.54769840e-03, 3.64923737e-03,\n",
              "       6.25629685e-03, 6.15677839e-03, 9.41967094e-04, 5.56542587e-03,\n",
              "       4.56394367e-03, 7.83037696e-03, 3.36443880e-04, 7.73002739e-03,\n",
              "       6.47726061e-03, 4.43268014e-03, 2.86134530e-04, 7.39745047e-03,\n",
              "       7.20814209e-03, 9.68687005e-04, 1.79092015e-03, 1.12183024e-04,\n",
              "       6.64814562e-03, 1.29097199e-03, 2.07512129e-01, 1.58536158e-01,\n",
              "       4.09077059e-02, 2.72073436e-02, 9.55307636e-03, 8.99396832e-03,\n",
              "       5.82423457e-03, 6.31633908e-03, 5.97754823e-03])"
            ]
          },
          "metadata": {
            "tags": []
          },
          "execution_count": 33
        }
      ]
    },
    {
      "cell_type": "code",
      "metadata": {
        "id": "KAUhyGbl109M"
      },
      "source": [
        "weights = pd.DataFrame(rf.feature_importances_, index= X.columns.values)"
      ],
      "execution_count": 34,
      "outputs": []
    },
    {
      "cell_type": "code",
      "metadata": {
        "colab": {
          "base_uri": "https://localhost:8080/",
          "height": 1000
        },
        "id": "v6LomJVM2FrV",
        "outputId": "55175b52-eae4-4821-cfda-a8255c5b1ee4"
      },
      "source": [
        "weights"
      ],
      "execution_count": 39,
      "outputs": [
        {
          "output_type": "execute_result",
          "data": {
            "text/html": [
              "<div>\n",
              "<style scoped>\n",
              "    .dataframe tbody tr th:only-of-type {\n",
              "        vertical-align: middle;\n",
              "    }\n",
              "\n",
              "    .dataframe tbody tr th {\n",
              "        vertical-align: top;\n",
              "    }\n",
              "\n",
              "    .dataframe thead th {\n",
              "        text-align: right;\n",
              "    }\n",
              "</style>\n",
              "<table border=\"1\" class=\"dataframe\">\n",
              "  <thead>\n",
              "    <tr style=\"text-align: right;\">\n",
              "      <th></th>\n",
              "      <th>0</th>\n",
              "    </tr>\n",
              "  </thead>\n",
              "  <tbody>\n",
              "    <tr>\n",
              "      <th>C2</th>\n",
              "      <td>0.055390</td>\n",
              "    </tr>\n",
              "    <tr>\n",
              "      <th>C3</th>\n",
              "      <td>0.063702</td>\n",
              "    </tr>\n",
              "    <tr>\n",
              "      <th>C8</th>\n",
              "      <td>0.074645</td>\n",
              "    </tr>\n",
              "    <tr>\n",
              "      <th>C11</th>\n",
              "      <td>0.066796</td>\n",
              "    </tr>\n",
              "    <tr>\n",
              "      <th>C14</th>\n",
              "      <td>0.058605</td>\n",
              "    </tr>\n",
              "    <tr>\n",
              "      <th>C15</th>\n",
              "      <td>0.061943</td>\n",
              "    </tr>\n",
              "    <tr>\n",
              "      <th>C1_a</th>\n",
              "      <td>0.006059</td>\n",
              "    </tr>\n",
              "    <tr>\n",
              "      <th>C1_b</th>\n",
              "      <td>0.007243</td>\n",
              "    </tr>\n",
              "    <tr>\n",
              "      <th>C4_l</th>\n",
              "      <td>0.001242</td>\n",
              "    </tr>\n",
              "    <tr>\n",
              "      <th>C4_u</th>\n",
              "      <td>0.016792</td>\n",
              "    </tr>\n",
              "    <tr>\n",
              "      <th>C4_y</th>\n",
              "      <td>0.015662</td>\n",
              "    </tr>\n",
              "    <tr>\n",
              "      <th>C6_aa</th>\n",
              "      <td>0.005108</td>\n",
              "    </tr>\n",
              "    <tr>\n",
              "      <th>C6_c</th>\n",
              "      <td>0.006973</td>\n",
              "    </tr>\n",
              "    <tr>\n",
              "      <th>C6_cc</th>\n",
              "      <td>0.004820</td>\n",
              "    </tr>\n",
              "    <tr>\n",
              "      <th>C6_d</th>\n",
              "      <td>0.004548</td>\n",
              "    </tr>\n",
              "    <tr>\n",
              "      <th>C6_e</th>\n",
              "      <td>0.003649</td>\n",
              "    </tr>\n",
              "    <tr>\n",
              "      <th>C6_ff</th>\n",
              "      <td>0.006256</td>\n",
              "    </tr>\n",
              "    <tr>\n",
              "      <th>C6_i</th>\n",
              "      <td>0.006157</td>\n",
              "    </tr>\n",
              "    <tr>\n",
              "      <th>C6_j</th>\n",
              "      <td>0.000942</td>\n",
              "    </tr>\n",
              "    <tr>\n",
              "      <th>C6_k</th>\n",
              "      <td>0.005565</td>\n",
              "    </tr>\n",
              "    <tr>\n",
              "      <th>C6_m</th>\n",
              "      <td>0.004564</td>\n",
              "    </tr>\n",
              "    <tr>\n",
              "      <th>C6_q</th>\n",
              "      <td>0.007830</td>\n",
              "    </tr>\n",
              "    <tr>\n",
              "      <th>C6_r</th>\n",
              "      <td>0.000336</td>\n",
              "    </tr>\n",
              "    <tr>\n",
              "      <th>C6_w</th>\n",
              "      <td>0.007730</td>\n",
              "    </tr>\n",
              "    <tr>\n",
              "      <th>C6_x</th>\n",
              "      <td>0.006477</td>\n",
              "    </tr>\n",
              "    <tr>\n",
              "      <th>C7_bb</th>\n",
              "      <td>0.004433</td>\n",
              "    </tr>\n",
              "    <tr>\n",
              "      <th>C7_dd</th>\n",
              "      <td>0.000286</td>\n",
              "    </tr>\n",
              "    <tr>\n",
              "      <th>C7_ff</th>\n",
              "      <td>0.007397</td>\n",
              "    </tr>\n",
              "    <tr>\n",
              "      <th>C7_h</th>\n",
              "      <td>0.007208</td>\n",
              "    </tr>\n",
              "    <tr>\n",
              "      <th>C7_j</th>\n",
              "      <td>0.000969</td>\n",
              "    </tr>\n",
              "    <tr>\n",
              "      <th>C7_n</th>\n",
              "      <td>0.001791</td>\n",
              "    </tr>\n",
              "    <tr>\n",
              "      <th>C7_o</th>\n",
              "      <td>0.000112</td>\n",
              "    </tr>\n",
              "    <tr>\n",
              "      <th>C7_v</th>\n",
              "      <td>0.006648</td>\n",
              "    </tr>\n",
              "    <tr>\n",
              "      <th>C7_z</th>\n",
              "      <td>0.001291</td>\n",
              "    </tr>\n",
              "    <tr>\n",
              "      <th>C9_f</th>\n",
              "      <td>0.207512</td>\n",
              "    </tr>\n",
              "    <tr>\n",
              "      <th>C9_t</th>\n",
              "      <td>0.158536</td>\n",
              "    </tr>\n",
              "    <tr>\n",
              "      <th>C10_f</th>\n",
              "      <td>0.040908</td>\n",
              "    </tr>\n",
              "    <tr>\n",
              "      <th>C10_t</th>\n",
              "      <td>0.027207</td>\n",
              "    </tr>\n",
              "    <tr>\n",
              "      <th>C12_f</th>\n",
              "      <td>0.009553</td>\n",
              "    </tr>\n",
              "    <tr>\n",
              "      <th>C12_t</th>\n",
              "      <td>0.008994</td>\n",
              "    </tr>\n",
              "    <tr>\n",
              "      <th>C13_g</th>\n",
              "      <td>0.005824</td>\n",
              "    </tr>\n",
              "    <tr>\n",
              "      <th>C13_p</th>\n",
              "      <td>0.006316</td>\n",
              "    </tr>\n",
              "    <tr>\n",
              "      <th>C13_s</th>\n",
              "      <td>0.005978</td>\n",
              "    </tr>\n",
              "  </tbody>\n",
              "</table>\n",
              "</div>"
            ],
            "text/plain": [
              "              0\n",
              "C2     0.055390\n",
              "C3     0.063702\n",
              "C8     0.074645\n",
              "C11    0.066796\n",
              "C14    0.058605\n",
              "C15    0.061943\n",
              "C1_a   0.006059\n",
              "C1_b   0.007243\n",
              "C4_l   0.001242\n",
              "C4_u   0.016792\n",
              "C4_y   0.015662\n",
              "C6_aa  0.005108\n",
              "C6_c   0.006973\n",
              "C6_cc  0.004820\n",
              "C6_d   0.004548\n",
              "C6_e   0.003649\n",
              "C6_ff  0.006256\n",
              "C6_i   0.006157\n",
              "C6_j   0.000942\n",
              "C6_k   0.005565\n",
              "C6_m   0.004564\n",
              "C6_q   0.007830\n",
              "C6_r   0.000336\n",
              "C6_w   0.007730\n",
              "C6_x   0.006477\n",
              "C7_bb  0.004433\n",
              "C7_dd  0.000286\n",
              "C7_ff  0.007397\n",
              "C7_h   0.007208\n",
              "C7_j   0.000969\n",
              "C7_n   0.001791\n",
              "C7_o   0.000112\n",
              "C7_v   0.006648\n",
              "C7_z   0.001291\n",
              "C9_f   0.207512\n",
              "C9_t   0.158536\n",
              "C10_f  0.040908\n",
              "C10_t  0.027207\n",
              "C12_f  0.009553\n",
              "C12_t  0.008994\n",
              "C13_g  0.005824\n",
              "C13_p  0.006316\n",
              "C13_s  0.005978"
            ]
          },
          "metadata": {
            "tags": []
          },
          "execution_count": 39
        }
      ]
    },
    {
      "cell_type": "code",
      "metadata": {
        "id": "9SIXRQM6jli-"
      },
      "source": [
        ""
      ],
      "execution_count": null,
      "outputs": []
    }
  ]
}